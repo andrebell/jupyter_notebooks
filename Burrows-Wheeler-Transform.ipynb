{
 "cells": [
  {
   "cell_type": "code",
   "execution_count": 30,
   "metadata": {
    "collapsed": true
   },
   "outputs": [],
   "source": [
    "def bwa(s):\n",
    "    # The burrow wheeler transform lexikoraphically compares two different\n",
    "    # rotations of s. This can be cmopletely expresses by index operartions\n",
    "    # without ever sorting s and without any table, just indices.\n",
    "    n = len(s)\n",
    "    def cmp_bwa(s):\n",
    "        \"\"\"Internal function to construct the bwa compare function for any\n",
    "        given string s.\"\"\"\n",
    "        def _cmp_bwa(a,b):\n",
    "            r = 0\n",
    "            while r == 0:\n",
    "                r = cmp(s[a], s[b])\n",
    "                a = (a+1) % n\n",
    "                b = (b+1) % n\n",
    "            return r\n",
    "        return _cmp_bwa\n",
    "    l = sorted(range(n), cmp=cmp_bwa(s))\n",
    "    idx = l.index(0)\n",
    "    return idx, \"\".join(map(lambda i: s[(i+len(s)-1) % n], l))"
   ]
  },
  {
   "cell_type": "code",
   "execution_count": 31,
   "metadata": {
    "collapsed": false
   },
   "outputs": [
    {
     "data": {
      "text/plain": [
       "(2, 'rdakraaaabb')"
      ]
     },
     "execution_count": 31,
     "metadata": {},
     "output_type": "execute_result"
    }
   ],
   "source": [
    "bwa('abrakadabra')"
   ]
  },
  {
   "cell_type": "code",
   "execution_count": 32,
   "metadata": {
    "collapsed": false
   },
   "outputs": [
    {
     "data": {
      "text/plain": [
       "(6, '~NNAAA~S')"
      ]
     },
     "execution_count": 32,
     "metadata": {},
     "output_type": "execute_result"
    }
   ],
   "source": [
    "bwa('~ANANAS~')"
   ]
  },
  {
   "cell_type": "code",
   "execution_count": 33,
   "metadata": {
    "collapsed": false
   },
   "outputs": [
    {
     "name": "stdout",
     "output_type": "stream",
     "text": [
      "20 loops, best of 10: 21.4 µs per loop\n"
     ]
    }
   ],
   "source": [
    "%timeit -r10 -n20 bwa('abrakadabra')"
   ]
  },
  {
   "cell_type": "code",
   "execution_count": null,
   "metadata": {
    "collapsed": true
   },
   "outputs": [],
   "source": []
  }
 ],
 "metadata": {
  "kernelspec": {
   "display_name": "Python 2.7",
   "language": "python",
   "name": "python2"
  },
  "language_info": {
   "name": "python",
   "version": "2.7.9"
  }
 },
 "nbformat": 4,
 "nbformat_minor": 0
}
