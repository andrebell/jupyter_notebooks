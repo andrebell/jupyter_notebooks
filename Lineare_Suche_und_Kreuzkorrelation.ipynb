{
 "cells": [
  {
   "cell_type": "code",
   "execution_count": 1,
   "metadata": {
    "collapsed": false
   },
   "outputs": [
    {
     "name": "stdout",
     "output_type": "stream",
     "text": [
      "Populating the interactive namespace from numpy and matplotlib\n"
     ]
    }
   ],
   "source": [
    "%pylab inline"
   ]
  },
  {
   "cell_type": "markdown",
   "metadata": {},
   "source": [
    "# Lineare Suche und die Kreuzkorrelationsfunktion"
   ]
  },
  {
   "cell_type": "markdown",
   "metadata": {},
   "source": [
    "Wir suchen eine Folge $P$ von Basen (aus der Menge A, T, G oder C) in einem Referenzgenom $T$. Es sei $m = |P|$ die Länge des Suchpatterns $P$ sowie $n = |T|$ die Länge der Referenz $T$.\n",
    "\n",
    "In der linearen Suche wird nun das Suchpattern über die Referenz gelegt, beginnend ab Stelle $i$. Alle überlappenden Symbole werden nun einzeln miteinander verglichen. Dieser Vorgang wird systematisch für jede Stelle $i \\in [0,n-m]$ wiederholt.\n",
    "\n",
    "Die [Kreuzkorrelation](https://de.wikipedia.org/wiki/Kreuzkorrelation) (Faltungsoperation, bei der die Sequenzumkehr ausbleibt) für diskrete Signale errechnet das Skalarprodukt zweier Ausschnitte aus den Signalen für alle relativen Positionen. Das entspricht der linearen Suche, wobei dann nicht nur verglichen, sondern das Produkt der jeweiligen Elemente ausgerechnet und aufaddiert wird.\n",
    "\n",
    "$$(T \\star P)[k] = \\sum_{i=-\\infty}^{\\infty} T[i]P[m+i]$$\n",
    "\n",
    "Dabei stehen die eckigen Klammern für einen Indexzugriff auf die diskreten Werte der Signale $T$ und $P$. Die Kreuzkorrelation wird maximal an den Stellen bester Übereinstimmung.\n",
    "\n",
    "Der Rechenaufwand der Kreuzkorrelation ist höher als der Rechenaufwand der linearen Suche, allerdings lässt sich die Kreuzkorrelation effizient in Hardware implementieren.\n",
    "\n",
    "In Software könnte das wie folgt aussehen:"
   ]
  },
  {
   "cell_type": "markdown",
   "metadata": {},
   "source": [
    "## Lineare Suche"
   ]
  },
  {
   "cell_type": "code",
   "execution_count": 2,
   "metadata": {
    "collapsed": true
   },
   "outputs": [],
   "source": [
    "T = \"ATGGTACTGACGATTTATCCTGACGAACTCGTACAAATAGTGTCTGATAAAATTGCTTCAAATAAGGGAAAAATCACTTTGAATCAGCTGTGGGATATATCTGGTAAATATTTTGATTTGTCTGATAAAAAAGTTAAACAGTTCGTGCTTTCATGCGTGATATTGAAAAAGGACATTGAGGTGTATTGTGATGGTGCTATAACAACTAAAAA\"\n",
    "P = \"AAAATTGCTT\""
   ]
  },
  {
   "cell_type": "code",
   "execution_count": 3,
   "metadata": {
    "collapsed": false
   },
   "outputs": [
    {
     "name": "stdout",
     "output_type": "stream",
     "text": [
      "Sequenz gefunden an T[48]\n"
     ]
    }
   ],
   "source": [
    "n = len(T)\n",
    "m = len(P)\n",
    "# Python lässt das letzte Element aus, daher n-m+1\n",
    "for i in range(n-m+1):\n",
    "    found = True\n",
    "    for j in range(m):\n",
    "        if not T[i+j] == P[j]:\n",
    "            # Exakte Suche, d.h. beim ersten Fehler abbrechen\n",
    "            found = False\n",
    "            break\n",
    "    if found:\n",
    "        print(\"Sequenz gefunden an T[{0}]\".format(i))"
   ]
  },
  {
   "cell_type": "markdown",
   "metadata": {},
   "source": [
    "## Kreuzkorrelation"
   ]
  },
  {
   "cell_type": "markdown",
   "metadata": {},
   "source": [
    "Für die Kreuzkorrelation müssen den Symbolen Zahlenwerte zugeordnet werden."
   ]
  },
  {
   "cell_type": "code",
   "execution_count": 4,
   "metadata": {
    "collapsed": true
   },
   "outputs": [],
   "source": [
    "# Symmetrisch um 0 aufgebaut, Paare von T oder C werden stärker gewichtet als A und G Übereinstimmungen\n",
    "mapping = dict(\n",
    "    A = -1,\n",
    "    T = -2,\n",
    "    G = 1,\n",
    "    C = 2\n",
    ")"
   ]
  },
  {
   "cell_type": "markdown",
   "metadata": {},
   "source": [
    "Das ergibt die neuen Folgen $T_\\text{num}$ und $P_\\text{num}$:"
   ]
  },
  {
   "cell_type": "code",
   "execution_count": 5,
   "metadata": {
    "collapsed": true
   },
   "outputs": [],
   "source": [
    "T_num = map(lambda c: mapping[c], T)\n",
    "P_num = map(lambda c: mapping[c], P)"
   ]
  },
  {
   "cell_type": "markdown",
   "metadata": {},
   "source": [
    "Wir berechnen die Kreuzkorrelationsfunktion nur für $k \\in [0,n-m]$ und addieren nicht von $-\\infty$ bis $\\infty$, da wir ausnutzen, dass $P$ und $T$ einen kompakten Träger haben."
   ]
  },
  {
   "cell_type": "code",
   "execution_count": 6,
   "metadata": {
    "collapsed": false
   },
   "outputs": [],
   "source": [
    "n = len(T_num)\n",
    "m = len(P_num)\n",
    "X = zeros(n-m+1, dtype='int32')\n",
    "for i in range(n-m+1):\n",
    "    summe = 0\n",
    "    for j in range(m):\n",
    "        summe += T_num[i+j] * P_num[j]\n",
    "    X[i] = summe"
   ]
  },
  {
   "cell_type": "code",
   "execution_count": 7,
   "metadata": {
    "collapsed": false
   },
   "outputs": [
    {
     "data": {
      "text/plain": [
       "<Container object of 3 artists>"
      ]
     },
     "execution_count": 7,
     "metadata": {},
     "output_type": "execute_result"
    },
    {
     "data": {
      "image/png": "[encoded data removed]",
      "text/plain": [
       "<matplotlib.figure.Figure at 0x5916210>"
      ]
     },
     "metadata": {},
     "output_type": "display_data"
    }
   ],
   "source": [
    "stem(X)"
   ]
  },
  {
   "cell_type": "code",
   "execution_count": 8,
   "metadata": {
    "collapsed": false
   },
   "outputs": [
    {
     "data": {
      "text/plain": [
       "(48, 25)"
      ]
     },
     "execution_count": 8,
     "metadata": {},
     "output_type": "execute_result"
    }
   ],
   "source": [
    "X_index = list(enumerate(X))\n",
    "max(X_index, key=lambda e: e[1])"
   ]
  },
  {
   "cell_type": "markdown",
   "metadata": {},
   "source": [
    "Wir sehen, dass der Maximalwert von $X[48]=25$ an der Indexstelle $k=48$ erreicht wird. Darüber hinaus können aber auch Stellen identifiziert werden, die ähnlich gute Ergebnisse liefern.\n",
    "\n",
    "Die [Autokorrelationsfunktion](https://de.wikipedia.org/wiki/Autokorrelation) von $P_\\text{num}$ liefert einen Maximalwert von"
   ]
  },
  {
   "cell_type": "code",
   "execution_count": 9,
   "metadata": {
    "collapsed": false
   },
   "outputs": [
    {
     "data": {
      "text/plain": [
       "25"
      ]
     },
     "execution_count": 9,
     "metadata": {},
     "output_type": "execute_result"
    }
   ],
   "source": [
    "sum(map(lambda e: e*e, P_num))"
   ]
  },
  {
   "cell_type": "markdown",
   "metadata": {},
   "source": [
    "D.h. das entspricht einem perfekten Match. Wenn wir X darauf normieren, so erhalten wir eine Güte für das Matching:"
   ]
  },
  {
   "cell_type": "code",
   "execution_count": 10,
   "metadata": {
    "collapsed": true
   },
   "outputs": [],
   "source": [
    "max_match = sum(map(lambda e: e*e, P_num))\n",
    "n = len(T_num)\n",
    "m = len(P_num)\n",
    "X = zeros(n-m+1, dtype='float')\n",
    "for i in range(n-m+1):\n",
    "    summe = 0.0\n",
    "    for j in range(m):\n",
    "        summe += T_num[i+j] * P_num[j]\n",
    "    X[i] = summe/max_match"
   ]
  },
  {
   "cell_type": "code",
   "execution_count": 11,
   "metadata": {
    "collapsed": false
   },
   "outputs": [
    {
     "data": {
      "text/plain": [
       "<Container object of 3 artists>"
      ]
     },
     "execution_count": 11,
     "metadata": {},
     "output_type": "execute_result"
    },
    {
     "data": {
      "image/png": "[encoded data removed]",
      "text/plain": [
       "<matplotlib.figure.Figure at 0x8813450>"
      ]
     },
     "metadata": {},
     "output_type": "display_data"
    }
   ],
   "source": [
    "stem(X)"
   ]
  },
  {
   "cell_type": "markdown",
   "metadata": {},
   "source": [
    "Relativ gute Matches ergeben sich auch an den Stellen"
   ]
  },
  {
   "cell_type": "code",
   "execution_count": 12,
   "metadata": {
    "collapsed": false
   },
   "outputs": [
    {
     "data": {
      "text/plain": [
       "[(48, 25), (108, 22), (12, 21)]"
      ]
     },
     "execution_count": 12,
     "metadata": {},
     "output_type": "execute_result"
    }
   ],
   "source": [
    "X_index.sort(cmp=lambda a,b: cmp(a[1], b[1]), reverse=True)\n",
    "X_index[:3]"
   ]
  },
  {
   "cell_type": "code",
   "execution_count": 13,
   "metadata": {
    "collapsed": false
   },
   "outputs": [
    {
     "name": "stdout",
     "output_type": "stream",
     "text": [
      "  Sequenz ab k=48 (Güte: 1.0): AAAATTGCTT\n",
      "Sequenz ab k=108 (Güte: 0.88): TATTTTGATT\n",
      " Sequenz ab k=12 (Güte: 0.84): ATTTATCCTG\n",
      "                            P: AAAATTGCTT\n"
     ]
    }
   ],
   "source": [
    "align=42\n",
    "for k, value in X_index[:3]:\n",
    "    print(\"Sequenz ab k={0} (Güte: {1}): {2}\".format(k, 1.0*value/max_match, T[k:k+len(P)]).rjust(align))\n",
    "print(\"P: {0}\".format(P).rjust(align-1))"
   ]
  },
  {
   "cell_type": "markdown",
   "metadata": {},
   "source": [
    "Die [Hammingdistanz](https://de.wikipedia.org/wiki/Hamming-Abstand) ist die Anzahl der unterschiedlichen Stellen zweier Sequenzen:"
   ]
  },
  {
   "cell_type": "code",
   "execution_count": 14,
   "metadata": {
    "collapsed": true
   },
   "outputs": [],
   "source": [
    "def hamming(s1, s2):\n",
    "    result = 0\n",
    "    n1 = len(s1)\n",
    "    n2 = len(s2)\n",
    "    for i in range(min(n1, n2)):\n",
    "        if not s1[i] == s2[i]:\n",
    "            result += 1\n",
    "    return result"
   ]
  },
  {
   "cell_type": "markdown",
   "metadata": {},
   "source": [
    "Ergänzen wir die Hammingdistanz in unseren Ergebnissen:"
   ]
  },
  {
   "cell_type": "code",
   "execution_count": 15,
   "metadata": {
    "collapsed": false
   },
   "outputs": [
    {
     "name": "stdout",
     "output_type": "stream",
     "text": [
      "  Sequenz ab k=48 (Güte: 1.0, Hamming-Abstand: 0): AAAATTGCTT\n",
      "Sequenz ab k=108 (Güte: 0.88, Hamming-Abstand: 4): TATTTTGATT\n",
      " Sequenz ab k=12 (Güte: 0.84, Hamming-Abstand: 6): ATTTATCCTG\n",
      "                                                P: AAAATTGCTT\n"
     ]
    }
   ],
   "source": [
    "align=62\n",
    "for k, value in X_index[:3]:\n",
    "    index = k\n",
    "    guete = 1.0*value/max_match\n",
    "    T_sub = T[k:k+len(P)]\n",
    "    h_dist = hamming(T_sub, P)\n",
    "    print(\"Sequenz ab k={0} (Güte: {1}, Hamming-Abstand: {2}): {3}\".format(k, guete, h_dist, T_sub).rjust(align))\n",
    "print(\"P: {0}\".format(P).rjust(align-1))"
   ]
  },
  {
   "cell_type": "markdown",
   "metadata": {},
   "source": [
    "## Fazit"
   ]
  },
  {
   "cell_type": "markdown",
   "metadata": {},
   "source": [
    "Beide Verfahren können nicht mit InDels umgehen. Darüber hinaus hat beim Mapping der Basen auf Zahlen die Auswahl der Zahlen erheblichen Einfluß auf das Ergebnis der Kreuzkorrelation. (Siehe Kommentar zur Überbewertung von A und G)\n",
    "\n",
    "Der Schlüssel einer schnellen Such liegt meiner Meinung nach darin das Refernzgenom optimal auf die Suche beliebig vieler kleiner Suchstrings vorzubereiten. Darin liegt die Annahme, dass viele Suchen auf dem Referenzgenom durchgeführt werden sollen. Die Vorbereitung dürfte dann ruhig länger dauern, solange die Suche schnell geht.\n",
    "\n",
    "(Stimmt die Annahme?)"
   ]
  },
  {
   "cell_type": "code",
   "execution_count": null,
   "metadata": {
    "collapsed": true
   },
   "outputs": [],
   "source": []
  }
 ],
 "metadata": {
  "kernelspec": {
   "display_name": "Python 2.7",
   "language": "python",
   "name": "python2"
  },
  "language_info": {
   "name": "python",
   "version": "2.7.9"
  }
 },
 "nbformat": 4,
 "nbformat_minor": 0
}
